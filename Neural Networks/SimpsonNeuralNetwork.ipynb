{
 "cells": [
  {
   "cell_type": "code",
   "execution_count": 180,
   "id": "fa70e9d6-9ad6-464e-9826-1f9467cac122",
   "metadata": {},
   "outputs": [],
   "source": [
    "import os\n",
    "import cv2\n",
    "import csv\n",
    "import numpy as np\n",
    "import pandas as pd\n",
    "import matplotlib.pyplot as plt"
   ]
  },
  {
   "cell_type": "code",
   "execution_count": 181,
   "id": "1a64062e-e44a-4f1c-bf93-649b8e8cb914",
   "metadata": {},
   "outputs": [
    {
     "name": "stdout",
     "output_type": "stream",
     "text": [
      "8000 785\n"
     ]
    }
   ],
   "source": [
    "data = pd.read_csv('TrainingData.csv')\n",
    "data = np.array(data)\n",
    "m, n = data.shape\n",
    "print (m,n)\n",
    "data_train = data.T\n",
    "Y_train = data_train[0]\n",
    "X_train = data_train[1:n]\n",
    "X_train = X_train/255.\n",
    "_,m_train = X_train.shape\n"
   ]
  },
  {
   "cell_type": "code",
   "execution_count": 182,
   "id": "e6c84b06-73b0-4f60-b09e-4188ff31da71",
   "metadata": {},
   "outputs": [
    {
     "data": {
      "text/plain": [
       "array([[0.49019608, 0.76862745, 0.77254902, ..., 0.80392157, 0.52156863,\n",
       "        0.80392157],\n",
       "       [0.53333333, 0.77254902, 0.78039216, ..., 0.76470588, 0.52156863,\n",
       "        0.81568627],\n",
       "       [0.50980392, 0.76078431, 0.58823529, ..., 0.32941176, 0.51764706,\n",
       "        0.87843137],\n",
       "       ...,\n",
       "       [0.73333333, 0.79607843, 0.71764706, ..., 0.74509804, 0.7254902 ,\n",
       "        0.57254902],\n",
       "       [0.76470588, 0.8       , 0.71372549, ..., 0.80392157, 0.6       ,\n",
       "        0.56470588],\n",
       "       [0.9254902 , 0.79607843, 0.70980392, ..., 0.79607843, 0.61176471,\n",
       "        0.55294118]])"
      ]
     },
     "execution_count": 182,
     "metadata": {},
     "output_type": "execute_result"
    }
   ],
   "source": [
    "X_train"
   ]
  },
  {
   "cell_type": "code",
   "execution_count": 183,
   "id": "8a637153-b9c1-4fdb-8910-a2b2792f38af",
   "metadata": {},
   "outputs": [],
   "source": [
    "def init_params():\n",
    "    W1 = np.random.rand(10, 784) - 0.5\n",
    "    b1 = np.random.rand(10, 1) - 0.5\n",
    "    W2 = np.random.rand(10, 10) - 0.5\n",
    "    b2 = np.random.rand(10, 1) - 0.5\n",
    "    return W1, b1, W2, b2\n",
    "\n",
    "def ReLU(Z):\n",
    "    return np.maximum(Z, 0)\n",
    "\n",
    "def softmax(Z):\n",
    "    A = np.exp(Z) / sum(np.exp(Z))\n",
    "    return A\n",
    "    \n",
    "def forward_prop(W1, b1, W2, b2, X):\n",
    "    Z1 = W1.dot(X) + b1\n",
    "    A1 = ReLU(Z1)\n",
    "    Z2 = W2.dot(A1) + b2\n",
    "    A2 = softmax(Z2)\n",
    "    return Z1, A1, Z2, A2\n",
    "\n",
    "def ReLU_deriv(Z):\n",
    "    return Z > 0\n",
    "\n",
    "def one_hot(Y):\n",
    "    one_hot_Y = np.zeros((Y.size, Y.max() + 1))\n",
    "    one_hot_Y[np.arange(Y.size), Y] = 1\n",
    "    one_hot_Y = one_hot_Y.T\n",
    "    return one_hot_Y\n",
    "\n",
    "def backward_prop(Z1, A1, Z2, A2, W1, W2, X, Y):\n",
    "    one_hot_Y = one_hot(Y)\n",
    "    dZ2 = A2 - one_hot_Y\n",
    "    dW2 = 1 / m * dZ2.dot(A1.T)\n",
    "    db2 = 1 / m * np.sum(dZ2)\n",
    "    dZ1 = W2.T.dot(dZ2) * ReLU_deriv(Z1)\n",
    "    dW1 = 1 / m * dZ1.dot(X.T)\n",
    "    db1 = 1 / m * np.sum(dZ1)\n",
    "    return dW1, db1, dW2, db2\n",
    "\n",
    "def update_params(W1, b1, W2, b2, dW1, db1, dW2, db2, alpha):\n",
    "    W1 = W1 - alpha * dW1\n",
    "    b1 = b1 - alpha * db1    \n",
    "    W2 = W2 - alpha * dW2  \n",
    "    b2 = b2 - alpha * db2    \n",
    "    return W1, b1, W2, b2"
   ]
  },
  {
   "cell_type": "code",
   "execution_count": 184,
   "id": "8b3a2caf-8e10-4034-aec0-f0ef14ef61e4",
   "metadata": {},
   "outputs": [],
   "source": [
    "\n",
    "\n",
    "\n",
    "def get_predictions(A2):\n",
    "    return np.argmax(A2, 0)\n",
    "\n",
    "def get_accuracy(predictions, Y):\n",
    "    print(predictions, Y)\n",
    "    return np.sum(predictions == Y) / Y.size\n",
    "\n",
    "def gradient_descent(X, Y, alpha, iterations):\n",
    "    W1, b1, W2, b2 = init_params()\n",
    "    for i in range(iterations):\n",
    "        Z1, A1, Z2, A2 = forward_prop(W1, b1, W2, b2, X)\n",
    "        dW1, db1, dW2, db2 = backward_prop(Z1, A1, Z2, A2, W1, W2, X, Y)\n",
    "        W1, b1, W2, b2 = update_params(W1, b1, W2, b2, dW1, db1, dW2, db2, alpha)\n",
    "        if i % 50000 == 0:\n",
    "            print(\"Iteration: \", i)\n",
    "            predictions = get_predictions(A2)\n",
    "            print(get_accuracy(predictions, Y))\n",
    "    return W1, b1, W2, b2\n"
   ]
  },
  {
   "cell_type": "code",
   "execution_count": 187,
   "id": "2167c730-0f10-4c68-b8d8-20e374320278",
   "metadata": {},
   "outputs": [
    {
     "name": "stdout",
     "output_type": "stream",
     "text": [
      "Iteration:  0\n",
      "[6 6 6 ... 6 6 6] [0 0 0 ... 9 9 9]\n",
      "0.101125\n",
      "Iteration:  50000\n",
      "[1 5 5 ... 5 9 1] [0 0 0 ... 9 9 9]\n",
      "0.390625\n",
      "Iteration:  100000\n",
      "[1 5 5 ... 5 9 1] [0 0 0 ... 9 9 9]\n",
      "0.43675\n",
      "Iteration:  150000\n",
      "[1 5 5 ... 5 9 1] [0 0 0 ... 9 9 9]\n",
      "0.459\n",
      "Iteration:  200000\n",
      "[1 5 5 ... 5 9 1] [0 0 0 ... 9 9 9]\n",
      "0.47725\n",
      "Iteration:  250000\n",
      "[1 5 5 ... 5 9 1] [0 0 0 ... 9 9 9]\n",
      "0.463375\n",
      "Iteration:  300000\n",
      "[1 5 5 ... 5 9 1] [0 0 0 ... 9 9 9]\n",
      "0.503625\n",
      "Iteration:  350000\n",
      "[1 5 5 ... 5 9 1] [0 0 0 ... 9 9 9]\n",
      "0.518625\n",
      "Iteration:  400000\n",
      "[1 5 5 ... 5 9 1] [0 0 0 ... 9 9 9]\n",
      "0.50325\n",
      "Iteration:  450000\n",
      "[1 2 5 ... 5 9 1] [0 0 0 ... 9 9 9]\n",
      "0.51425\n",
      "Iteration:  500000\n",
      "[1 5 5 ... 5 9 1] [0 0 0 ... 9 9 9]\n",
      "0.505625\n",
      "Iteration:  550000\n",
      "[1 5 5 ... 5 9 1] [0 0 0 ... 9 9 9]\n",
      "0.529375\n",
      "Iteration:  600000\n",
      "[1 5 5 ... 5 9 1] [0 0 0 ... 9 9 9]\n",
      "0.542875\n",
      "Iteration:  650000\n",
      "[1 5 5 ... 5 9 1] [0 0 0 ... 9 9 9]\n",
      "0.54525\n",
      "Iteration:  700000\n",
      "[0 5 5 ... 5 9 1] [0 0 0 ... 9 9 9]\n",
      "0.526625\n",
      "Iteration:  750000\n",
      "[0 5 5 ... 5 9 1] [0 0 0 ... 9 9 9]\n",
      "0.552625\n",
      "Iteration:  800000\n",
      "[9 5 5 ... 5 9 1] [0 0 0 ... 9 9 9]\n",
      "0.518625\n",
      "Iteration:  850000\n",
      "[0 5 2 ... 5 9 1] [0 0 0 ... 9 9 9]\n",
      "0.52525\n",
      "Iteration:  900000\n",
      "[0 5 5 ... 5 9 1] [0 0 0 ... 9 9 9]\n",
      "0.538\n",
      "Iteration:  950000\n",
      "[0 5 5 ... 5 9 1] [0 0 0 ... 9 9 9]\n",
      "0.5485\n"
     ]
    }
   ],
   "source": [
    "W1, b1, W2, b2 = gradient_descent(X_train, Y_train, 0.1, 1000000)\n"
   ]
  },
  {
   "cell_type": "code",
   "execution_count": 200,
   "id": "f26bba99-c0dc-44ed-b2ac-f2fee9754e4f",
   "metadata": {},
   "outputs": [
    {
     "name": "stdout",
     "output_type": "stream",
     "text": [
      "2000 785\n"
     ]
    }
   ],
   "source": [
    "data = pd.read_csv('TestingData.csv')\n",
    "data = np.array(data)\n",
    "np.random.shuffle(data)\n",
    "m, n = data.shape\n",
    "print (m,n)\n",
    "data_train = data.T\n",
    "Y_test = data_train[0]\n",
    "X_test = data_train[1:n]\n",
    "X_test = X_test/255.\n",
    "_,m_train = X_test.shape\n",
    "classes = os.listdir(\"train\") \n",
    "def make_predictions(X, W1, b1, W2, b2):\n",
    "    _, _, _, A2 = forward_prop(W1, b1, W2, b2, X)\n",
    "    predictions = get_predictions(A2)\n",
    "    return predictions\n",
    "\n",
    "def test_prediction(index, W1, b1, W2, b2):\n",
    "    current_image = X_test[:, index, None]\n",
    "    prediction = make_predictions(X_test[:, index, None], W1, b1, W2, b2)\n",
    "    label = Y_test[index]\n",
    "    print(\"Prediction: \", classes[prediction[0]])\n",
    "    print(\"Label: \", classes[label])\n",
    "    \n",
    "    current_image = current_image.reshape((28, 28)) * 255\n",
    "    plt.gray()\n",
    "    plt.imshow(current_image, interpolation='nearest')\n",
    "    plt.show()"
   ]
  },
  {
   "cell_type": "code",
   "execution_count": 201,
   "id": "c79f9d96-ceb2-47f8-aa09-bc88add4da04",
   "metadata": {},
   "outputs": [
    {
     "name": "stdout",
     "output_type": "stream",
     "text": [
      "Prediction:  marge_simpson\n",
      "Label:  marge_simpson\n"
     ]
    },
    {
     "data": {
      "image/png": "[encoded data removed]",
      "text/plain": [
       "<Figure size 640x480 with 1 Axes>"
      ]
     },
     "metadata": {},
     "output_type": "display_data"
    },
    {
     "name": "stdout",
     "output_type": "stream",
     "text": [
      "Prediction:  marge_simpson\n",
      "Label:  marge_simpson\n"
     ]
    },
    {
     "data": {
      "image/png": "[encoded data removed]",
      "text/plain": [
       "<Figure size 640x480 with 1 Axes>"
      ]
     },
     "metadata": {},
     "output_type": "display_data"
    },
    {
     "name": "stdout",
     "output_type": "stream",
     "text": [
      "Prediction:  bart_simpson\n",
      "Label:  bart_simpson\n"
     ]
    },
    {
     "data": {
      "image/png": "[encoded data removed]",
      "text/plain": [
       "<Figure size 640x480 with 1 Axes>"
      ]
     },
     "metadata": {},
     "output_type": "display_data"
    },
    {
     "name": "stdout",
     "output_type": "stream",
     "text": [
      "Prediction:  ned_flanders\n",
      "Label:  ned_flanders\n"
     ]
    },
    {
     "data": {
      "image/png": "[encoded data removed]",
      "text/plain": [
       "<Figure size 640x480 with 1 Axes>"
      ]
     },
     "metadata": {},
     "output_type": "display_data"
    }
   ],
   "source": [
    "test_prediction(0, W1, b1, W2, b2)\n",
    "test_prediction(1, W1, b1, W2, b2)\n",
    "test_prediction(2, W1, b1, W2, b2)\n",
    "test_prediction(3, W1, b1, W2, b2)\n"
   ]
  },
  {
   "cell_type": "code",
   "execution_count": 199,
   "id": "651de71a-1615-4a79-a02d-b0a09d04c2c3",
   "metadata": {},
   "outputs": [
    {
     "name": "stdout",
     "output_type": "stream",
     "text": [
      "[0 5 5 ... 5 9 1] [0 0 0 ... 9 9 9]\n"
     ]
    },
    {
     "data": {
      "text/plain": [
       "0.55975"
      ]
     },
     "execution_count": 199,
     "metadata": {},
     "output_type": "execute_result"
    }
   ],
   "source": [
    "\n",
    "dev_predictions = make_predictions(X_train, W1, b1, W2, b2)\n",
    "get_accuracy(dev_predictions, Y_train)"
   ]
  }
 ],
 "metadata": {
  "kernelspec": {
   "display_name": "Python 3 (ipykernel)",
   "language": "python",
   "name": "python3"
  },
  "language_info": {
   "codemirror_mode": {
    "name": "ipython",
    "version": 3
   },
   "file_extension": ".py",
   "mimetype": "text/x-python",
   "name": "python",
   "nbconvert_exporter": "python",
   "pygments_lexer": "ipython3",
   "version": "3.10.2"
  }
 },
 "nbformat": 4,
 "nbformat_minor": 5
}
