{
 "cells": [
  {
   "cell_type": "code",
   "execution_count": 2,
   "id": "19f6368b-3743-4795-b78f-e8728eeef6b1",
   "metadata": {},
   "outputs": [
    {
     "name": "stdout",
     "output_type": "stream",
     "text": [
      "CSV file 'TrainingData.csv' created successfully.\n"
     ]
    }
   ],
   "source": [
    "import os\n",
    "import cv2\n",
    "import numpy as np\n",
    "import csv\n",
    "\n",
    "def load_images(folder_path, label):\n",
    "    images = []\n",
    "    labels = []\n",
    "    \n",
    "    for image_name in os.listdir(folder_path):\n",
    "        image_path = os.path.join(folder_path, image_name)\n",
    "        \n",
    "        # Check if the file is an image\n",
    "        if not image_path.endswith(('.jpg', '.jpeg', '.png')):\n",
    "            continue\n",
    "        \n",
    "        # Read and resize the image\n",
    "        image = cv2.imread(image_path, cv2.IMREAD_GRAYSCALE)\n",
    "        \n",
    "        # Check if the image was successfully loaded\n",
    "        if image is None:\n",
    "            print(f\"Error loading image: {image_path}\")\n",
    "            continue\n",
    "        \n",
    "        # Define the region of interest (ROI) around the center\n",
    "        center_x, center_y = image.shape[1] // 2, image.shape[0] // 2\n",
    "        roi_size = min(image.shape[0], image.shape[1]) // 2\n",
    "        roi = image[center_y - roi_size//2:center_y + roi_size//2, center_x - roi_size//2:center_x + roi_size//2]\n",
    "        \n",
    "        # Resize the ROI to 28x28\n",
    "        roi = cv2.resize(roi, (28, 28))\n",
    "        \n",
    "        # Normalize the pixel values and convert to integers\n",
    "        roi = (roi * 255).astype(int)\n",
    "        \n",
    "        images.append(roi.flatten())  # Flatten the 28x28 ROI to a 1D array\n",
    "        labels.append(label)\n",
    "        \n",
    "    return images, labels\n",
    "\n",
    "# Base path for the image folders\n",
    "base_path = 'train'\n",
    "\n",
    "# Output CSV file path\n",
    "output_csv_path = 'TrainingData.csv'\n",
    "\n",
    "# Open the CSV file for writing\n",
    "with open(output_csv_path, mode='w', newline='') as csv_file:\n",
    "    csv_writer = csv.writer(csv_file)\n",
    "    \n",
    "    # Write header\n",
    "    header = ['label'] + [f'pixel_{i}' for i in range(784)]  # 28x28 = 784 pixels\n",
    "    csv_writer.writerow(header)\n",
    "    \n",
    "    # Dynamically assign labels based on folder order\n",
    "    label_counter = 0\n",
    "    \n",
    "    # Iterate through each folder\n",
    "    for folder_name in os.listdir(base_path):\n",
    "        class_folder_path = os.path.join(base_path, folder_name)\n",
    "        \n",
    "        # Load images and labels for the current class\n",
    "        images, labels = load_images(class_folder_path, label_counter)\n",
    "        \n",
    "        # Write data to CSV\n",
    "        for i in range(len(images)):\n",
    "            csv_writer.writerow([labels[i]] + list(images[i]))\n",
    "        \n",
    "        label_counter += 1\n",
    "\n",
    "print(f\"CSV file '{output_csv_path}' created successfully.\")\n"
   ]
  },
  {
   "cell_type": "code",
   "execution_count": null,
   "id": "a9e66f6b-aad0-45f9-b95d-b9ce38c02629",
   "metadata": {},
   "outputs": [],
   "source": []
  }
 ],
 "metadata": {
  "kernelspec": {
   "display_name": "Python 3 (ipykernel)",
   "language": "python",
   "name": "python3"
  },
  "language_info": {
   "codemirror_mode": {
    "name": "ipython",
    "version": 3
   },
   "file_extension": ".py",
   "mimetype": "text/x-python",
   "name": "python",
   "nbconvert_exporter": "python",
   "pygments_lexer": "ipython3",
   "version": "3.10.2"
  }
 },
 "nbformat": 4,
 "nbformat_minor": 5
}
