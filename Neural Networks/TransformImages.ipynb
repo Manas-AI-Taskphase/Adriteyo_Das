{
 "cells": [
  {
   "cell_type": "code",
   "execution_count": 1,
   "id": "19f6368b-3743-4795-b78f-e8728eeef6b1",
   "metadata": {},
   "outputs": [
    {
     "name": "stdout",
     "output_type": "stream",
     "text": [
      "CSV file 'TrainingData.csv' created successfully.\n"
     ]
    }
   ],
   "source": [
    "import os\n",
    "import cv2\n",
    "import numpy as np\n",
    "import csv\n",
    "\n",
    "def load_images(folder_path, label):\n",
    "    images = []\n",
    "    labels = []\n",
    "    \n",
    "    for image_name in os.listdir(folder_path):\n",
    "        image_path = os.path.join(folder_path, image_name)\n",
    "        \n",
    "        if not image_path.endswith(('.jpg', '.jpeg', '.png')):\n",
    "            continue\n",
    "        \n",
    "        image = cv2.imread(image_path, cv2.IMREAD_GRAYSCALE)\n",
    "        resized_image = cv2.resize(image, (28, 28))\n",
    "        \n",
    "        normalized_image = resized_image / 255.0\n",
    "        \n",
    "        images.append(normalized_image.flatten())  \n",
    "        labels.append(label)\n",
    "        \n",
    "    return images, labels\n",
    "\n",
    "base_path = 'train'\n",
    "\n",
    "output_csv_path = 'TrainingData.csv'\n",
    "\n",
    "with open(output_csv_path, mode='w', newline='') as csv_file:\n",
    "    csv_writer = csv.writer(csv_file)\n",
    "    \n",
    "    header = ['label'] + [f'pixel_{i}' for i in range(784)]  #\n",
    "    csv_writer.writerow(header)\n",
    "    \n",
    "    label_counter = 0\n",
    "    \n",
    "    for folder_name in os.listdir(base_path):\n",
    "        class_folder_path = os.path.join(base_path, folder_name)\n",
    "        \n",
    "        images, labels = load_images(class_folder_path, label_counter)\n",
    "        \n",
    "        for i in range(len(images)):\n",
    "            csv_writer.writerow([labels[i]] + list(images[i]))\n",
    "        \n",
    "        label_counter += 1\n",
    "\n",
    "print(f\"CSV file '{output_csv_path}' created successfully.\")\n",
    "\n"
   ]
  },
  {
   "cell_type": "code",
   "execution_count": null,
   "id": "a9e66f6b-aad0-45f9-b95d-b9ce38c02629",
   "metadata": {},
   "outputs": [],
   "source": []
  }
 ],
 "metadata": {
  "kernelspec": {
   "display_name": "Python 3 (ipykernel)",
   "language": "python",
   "name": "python3"
  },
  "language_info": {
   "codemirror_mode": {
    "name": "ipython",
    "version": 3
   },
   "file_extension": ".py",
   "mimetype": "text/x-python",
   "name": "python",
   "nbconvert_exporter": "python",
   "pygments_lexer": "ipython3",
   "version": "3.10.2"
  }
 },
 "nbformat": 4,
 "nbformat_minor": 5
}
