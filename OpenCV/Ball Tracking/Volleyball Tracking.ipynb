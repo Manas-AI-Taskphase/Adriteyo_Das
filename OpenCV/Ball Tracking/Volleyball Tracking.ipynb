{
 "cells": [
  {
   "cell_type": "code",
   "execution_count": 1,
   "id": "08e2848b-286d-42a2-a73d-2caae14d0d9e",
   "metadata": {},
   "outputs": [],
   "source": [
    "import cv2\n"
   ]
  },
  {
   "cell_type": "code",
   "execution_count": 2,
   "id": "1ebc4795-2f13-4c3c-a941-619746db54ab",
   "metadata": {},
   "outputs": [],
   "source": [
    "def detect_ball(frame, ball_cascade, min_area=30):\n",
    "    gray = cv2.cvtColor(frame, cv2.COLOR_BGR2GRAY)\n",
    "    \n",
    "    balls = ball_cascade.detectMultiScale(gray, scaleFactor=1.1, minNeighbors=5, minSize=(30, 30), maxSize = (35,35))\n",
    "    \n",
    "    for (x, y, w, h) in balls:\n",
    "        area = w * h\n",
    "        if area > min_area:\n",
    "            cv2.rectangle(frame, (x, y), (x+w, y+h), (0, 255, 0), 2)\n",
    "    \n",
    "    return frame"
   ]
  },
  {
   "cell_type": "code",
   "execution_count": 3,
   "id": "d66daa4e-33a6-4ee2-9573-320983a5e709",
   "metadata": {},
   "outputs": [],
   "source": [
    "ball_cascade = cv2.CascadeClassifier('ball.xml')  \n",
    "\n"
   ]
  },
  {
   "cell_type": "code",
   "execution_count": 4,
   "id": "c0360b83-cb38-499c-a89a-fd1fe44f119f",
   "metadata": {},
   "outputs": [],
   "source": [
    "cap = cv2.VideoCapture('volleyball_match.mp4')"
   ]
  },
  {
   "cell_type": "code",
   "execution_count": 5,
   "id": "ec30f6ce-6ef0-4df8-acad-865ebe53a542",
   "metadata": {},
   "outputs": [],
   "source": [
    "if not cap.isOpened():\n",
    "    print(\"Error: Couldn't open video file.\")\n",
    "    exit()"
   ]
  },
  {
   "cell_type": "code",
   "execution_count": 6,
   "id": "b872c756-02a1-4f90-a982-92a1014267cc",
   "metadata": {},
   "outputs": [],
   "source": [
    "while cap.isOpened():\n",
    "    ret, frame = cap.read()\n",
    "    if ret:\n",
    "        frame = detect_ball(frame, ball_cascade)\n",
    "        \n",
    "        cv2.imshow('Ball Detection', frame)\n",
    "        \n",
    "        if cv2.waitKey(25) & 0xFF == ord('q'):\n",
    "            break\n",
    "    else:\n",
    "        break\n",
    "\n",
    "cap.release()\n",
    "cv2.destroyAllWindows()"
   ]
  },
  {
   "cell_type": "code",
   "execution_count": null,
   "id": "9b82e9e1-ccdd-43af-aa1d-b9902ca44fe2",
   "metadata": {},
   "outputs": [],
   "source": []
  }
 ],
 "metadata": {
  "kernelspec": {
   "display_name": "Python 3 (ipykernel)",
   "language": "python",
   "name": "python3"
  },
  "language_info": {
   "codemirror_mode": {
    "name": "ipython",
    "version": 3
   },
   "file_extension": ".py",
   "mimetype": "text/x-python",
   "name": "python",
   "nbconvert_exporter": "python",
   "pygments_lexer": "ipython3",
   "version": "3.10.2"
  }
 },
 "nbformat": 4,
 "nbformat_minor": 5
}
